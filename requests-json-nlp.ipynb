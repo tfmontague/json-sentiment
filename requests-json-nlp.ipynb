{
 "cells": [
  {
   "cell_type": "markdown",
   "metadata": {},
   "source": [
    "# Web Mining and Applied NLP (44-620)\n",
    "\n",
    "## Requests, JSON, and NLP\n",
    "\n",
    "### Student Name: Topaz Montague \n",
    "\n",
    "### Linke to Project Repository: [P4 GitHub Repository](https://github.com/tfmontague/json-sentiment)\n",
    "\n",
    "Perform the tasks described in the Markdown cells below.  When you have completed the assignment make sure your code cells have all been run (and have output beneath them) and ensure you have committed and pushed ALL of your changes to your assignment repository.\n",
    "\n",
    "Make sure you have [installed spaCy and its pipeline](https://spacy.io/usage#quickstart) and [spaCyTextBlob](https://spacy.io/universe/project/spacy-textblob)\n",
    "\n",
    "Every question that requires you to write code will have a code cell underneath it; you may either write your entire solution in that cell or write it in a python file (`.py`), then import and run the appropriate code to answer the question.\n",
    "\n",
    "This assignment requires that you write additional files (either JSON or pickle files); make sure to submit those files in your repository as well."
   ]
  },
  {
   "cell_type": "markdown",
   "metadata": {},
   "source": [
    "1. The following code accesses the [lyrics.ovh](https://lyricsovh.docs.apiary.io/#reference/0/lyrics-of-a-song/search) public api, searches for the lyrics of a song, and stores it in a dictionary object.  Write the resulting json to a file (either a JSON file or a pickle file; you choose). You will read in the contents of this file for future questions so we do not need to frequently access the API.\n",
    "\n",
    "**Note**: The current instructions are no longer working. We will use: https://gist.github.com/neloe/e38e4d3283418e096aac80fa48bb66bd . Instead of artist/song, we will use author/poem to fetch our content."
   ]
  },
  {
   "cell_type": "markdown",
   "metadata": {},
   "source": [
    "#### Question 1 Response"
   ]
  },
  {
   "cell_type": "code",
   "execution_count": 13,
   "metadata": {},
   "outputs": [
    {
     "name": "stdout",
     "output_type": "stream",
     "text": [
      "Take this kiss upon the brow!\n",
      "And, in parting from you now,\n",
      "Thus much let me avow--\n",
      "You are not wrong, who deem\n",
      "That my days have been a dream:\n",
      "Yet if hope has flown away\n",
      "In a night, or in a day,\n",
      "In a vision or in none,\n",
      "Is it therefore the less _gone_?\n",
      "_All_ that we see or seem\n",
      "Is but a dream within a dream.\n",
      "\n",
      "I stand amid the roar\n",
      "Of a surf-tormented shore,\n",
      "And I hold within my hand\n",
      "Grains of the golden sand--\n",
      "How few! yet how they creep\n",
      "Through my fingers to the deep\n",
      "While I weep--while I weep!\n",
      "O God! can I not grasp\n",
      "Them with a tighter clasp?\n",
      "O God! can I not save\n",
      "_One_ from the pitiless wave?\n",
      "Is _all_ that we see or seem\n",
      "But a dream within a dream?\n"
     ]
    }
   ],
   "source": [
    "import requests\n",
    "import json\n",
    "\n",
    "AUTHOR = 'Edgar Allan Poe'\n",
    "POEM = 'A Dream Within A Dream'\n",
    "\n",
    "URL = f'https://poetrydb.org/author,title/{AUTHOR};{POEM}'\n",
    "result = json.loads(requests.get(URL).text)\n",
    "\n",
    "# write the result to a JSON file\n",
    "with open('poem.json', 'w') as file:\n",
    "    json.dump(result, file)\n",
    "\n",
    "# Print the poem to get results on the screen\n",
    "poem = '\\n'.join(result[0]['lines'])\n",
    "print(poem)\n"
   ]
  },
  {
   "cell_type": "markdown",
   "metadata": {},
   "source": [
    "2. Read in the contents of your file.  Print the lyrics of the song (not the entire dictionary!) and use spaCyTextBlob to perform sentiment analysis on the lyrics.  Print the polarity score of the sentiment analysis.  Given that the range of the polarity score is `[-1.0,1.0]` which corresponds to how positive or negative the text in question is, do you think the lyrics have a more positive or negative connotaion?  Answer this question in a comment in your code cell.\n",
    "\n",
    "**Note**: The current instructions are no longer working. We will use: https://gist.github.com/neloe/e38e4d3283418e096aac80fa48bb66bd . Instead of artist/song, we will use author/poem to fetch our content."
   ]
  },
  {
   "cell_type": "markdown",
   "metadata": {},
   "source": [
    "#### Question 2 Response"
   ]
  },
  {
   "cell_type": "code",
   "execution_count": 14,
   "metadata": {},
   "outputs": [
    {
     "name": "stdout",
     "output_type": "stream",
     "text": [
      "Poem Lyrics:\n",
      " Take this kiss upon the brow!\n",
      "And, in parting from you now,\n",
      "Thus much let me avow--\n",
      "You are not wrong, who deem\n",
      "That my days have been a dream:\n",
      "Yet if hope has flown away\n",
      "In a night, or in a day,\n",
      "In a vision or in none,\n",
      "Is it therefore the less _gone_?\n",
      "_All_ that we see or seem\n",
      "Is but a dream within a dream.\n",
      "\n",
      "I stand amid the roar\n",
      "Of a surf-tormented shore,\n",
      "And I hold within my hand\n",
      "Grains of the golden sand--\n",
      "How few! yet how they creep\n",
      "Through my fingers to the deep\n",
      "While I weep--while I weep!\n",
      "O God! can I not grasp\n",
      "Them with a tighter clasp?\n",
      "O God! can I not save\n",
      "_One_ from the pitiless wave?\n",
      "Is _all_ that we see or seem\n",
      "But a dream within a dream?\n",
      "\n",
      "Polarity Score: 0.055555555555555546\n"
     ]
    }
   ],
   "source": [
    "import json\n",
    "import spacy\n",
    "from spacytextblob.spacytextblob import SpacyTextBlob\n",
    "\n",
    "# Initialize spaCy\n",
    "nlp = spacy.load('en_core_web_sm')\n",
    "nlp.add_pipe('spacytextblob')\n",
    "\n",
    "# Read in the contents of the JSON file\n",
    "with open('poem.json', 'r') as file:\n",
    "    result = json.load(file)\n",
    "\n",
    "# Extract the poem's text (lyrics)\n",
    "poem_lines = result[0]['lines']\n",
    "poem_text = '\\n'.join(poem_lines)\n",
    "\n",
    "# Print the lyrics of the song (poem)\n",
    "print(\"Poem Lyrics:\\n\", poem_text)\n",
    "\n",
    "# Perform sentiment analysis on the lyrics\n",
    "doc = nlp(poem_text)\n",
    "polarity_score = doc._.polarity\n",
    "\n",
    "# Print the polarity score of the sentiment analysis\n",
    "print(\"\\nPolarity Score:\", polarity_score)\n",
    "\n",
    "# Given that the polarity score of 0.055555555555555546 falls slightly above the midpoint of 0. This indicates that the text (poem lyrics) has a slightly positive connotation. The score is very close to neutral but leans towards the positive side, suggesting that the overall sentiment of the poem is marginally more positive than negative."
   ]
  },
  {
   "cell_type": "markdown",
   "metadata": {},
   "source": [
    "3. Write a function that takes an artist, song, and filename, accesses the lyrics.ovh api to get the song lyrics, and writes the results to the specified filename.  Test this function by getting the lyrics to any four songs of your choice and storing them in different files.\n",
    "\n",
    "**Note**: The current instructions are no longer working. We will use: https://gist.github.com/neloe/e38e4d3283418e096aac80fa48bb66bd . Instead of artist/song, we will use author/poem to fetch our content."
   ]
  },
  {
   "cell_type": "markdown",
   "metadata": {},
   "source": [
    "#### Question 3 Response"
   ]
  },
  {
   "cell_type": "code",
   "execution_count": 15,
   "metadata": {},
   "outputs": [
    {
     "name": "stdout",
     "output_type": "stream",
     "text": [
      "Saved 'The Road Not Taken' by Robert Frost to the_road_not_taken.json\n",
      "Saved 'Stopping by Woods on a Snowy Evening' by Robert Frost to stopping_by_woods_on_a_snowy_evening.json\n",
      "Saved 'Sonnet 18' by William Shakespeare to sonnet_18.json\n",
      "Saved 'Because I could not stop for Death' by Emily Dickinson to because_i_could_not_stop_for_death.json\n"
     ]
    }
   ],
   "source": [
    "import requests\n",
    "import json\n",
    "\n",
    "def fetch_and_save_poem(author, title, filename):\n",
    "    \"\"\"\n",
    "    Fetches a poem given an author and title from the PoetryDB API and saves the result to a specified filename.\n",
    "\n",
    "    Parameters:\n",
    "    - author: The name of the author.\n",
    "    - title: The title of the poem.\n",
    "    - filename: The filename where the poem will be saved.\n",
    "    \"\"\"\n",
    "    url = f'https://poetrydb.org/author,title/{author};{title}'\n",
    "    response = requests.get(url)\n",
    "    if response.status_code == 200:\n",
    "        data = response.json()\n",
    "        with open(filename, 'w') as file:\n",
    "            json.dump(data, file)\n",
    "        print(f\"Saved '{title}' by {author} to {filename}\")\n",
    "    else:\n",
    "        print(f\"Failed to fetch '{title}' by {author}. Status code: {response.status_code}\")\n",
    "\n",
    "# Testing the function with the specified poems\n",
    "fetch_and_save_poem(\"Robert Frost\", \"The Road Not Taken\", \"the_road_not_taken.json\")\n",
    "fetch_and_save_poem(\"Robert Frost\", \"Stopping by Woods on a Snowy Evening\", \"stopping_by_woods_on_a_snowy_evening.json\")\n",
    "fetch_and_save_poem(\"William Shakespeare\", \"Sonnet 18\", \"sonnet_18.json\")\n",
    "fetch_and_save_poem(\"Emily Dickinson\", \"Because I could not stop for Death\", \"because_i_could_not_stop_for_death.json\")\n"
   ]
  },
  {
   "cell_type": "markdown",
   "metadata": {},
   "source": [
    "4. a. Write a function that takes the name of a file that contains song lyrics, loads the file, performs sentiment analysis, and returns the polarity score.  Use this function to print the polarity scores (with the name of the song) of the three files you created in question 3.  b. Does the reported polarity match your understanding of the song's lyrics? Why or why not do you think that might be?  Answer the questions in either a comment in the code cell or a markdown cell under the code cell.\n",
    "\n",
    "**Note**: The current instructions are no longer working. We will use: https://gist.github.com/neloe/e38e4d3283418e096aac80fa48bb66bd . Instead of artist/song, we will use author/poem to fetch our content."
   ]
  },
  {
   "cell_type": "markdown",
   "metadata": {},
   "source": [
    "#### Question 4a Response"
   ]
  },
  {
   "cell_type": "code",
   "execution_count": 16,
   "metadata": {},
   "outputs": [
    {
     "name": "stdout",
     "output_type": "stream",
     "text": [
      "Saved 'The Road Not Taken' by Robert Frost to the_road_not_taken.json\n",
      "Saved 'Stopping by Woods on a Snowy Evening' by Robert Frost to stopping_by_woods_on_a_snowy_evening.json\n",
      "Saved 'Sonnet 18' by William Shakespeare to sonnet_18.json\n",
      "Saved 'Because I could not stop for Death' by Emily Dickinson to because_i_could_not_stop_for_death.json\n",
      "Polarity Score for 'The Road Not Taken': 0.0\n",
      "Polarity Score for 'Stopping by Woods on a Snowy Evening': 0.0\n",
      "Polarity Score for 'Sonnet 18': 0.33181818181818185\n",
      "Polarity Score for 'Because I could not stop for Death': 0.0\n"
     ]
    }
   ],
   "source": [
    "\n",
    "# Initialize spaCy and add the SpacyTextBlob pipeline\n",
    "nlp = spacy.load(\"en_core_web_sm\")\n",
    "nlp.add_pipe('spacytextblob')\n",
    "\n",
    "# Function to analyze sentiment and get polarity score\n",
    "def analyze_sentiment_and_get_polarity(filename):\n",
    "    with open(filename, 'r') as file:\n",
    "        data = json.load(file)\n",
    "        \n",
    "        # Handling both possible JSON structures\n",
    "        if isinstance(data, list):\n",
    "            poem_lines = data[0]['lines']\n",
    "        else:\n",
    "            poem_lines = data['lines'] if 'lines' in data else []\n",
    "            \n",
    "        poem_text = '\\n'.join(poem_lines)\n",
    "        doc = nlp(poem_text)\n",
    "        return doc._.polarity\n",
    "\n",
    "# Initialize spaCy and add the SpacyTextBlob pipeline\n",
    "nlp = spacy.load(\"en_core_web_sm\")\n",
    "nlp.add_pipe('spacytextblob')\n",
    "\n",
    "# Fetch and save the poems\n",
    "poems = [\n",
    "    (\"Robert Frost\", \"The Road Not Taken\", \"the_road_not_taken.json\"),\n",
    "    (\"Robert Frost\", \"Stopping by Woods on a Snowy Evening\", \"stopping_by_woods_on_a_snowy_evening.json\"),\n",
    "    (\"William Shakespeare\", \"Sonnet 18\", \"sonnet_18.json\"),\n",
    "    (\"Emily Dickinson\", \"Because I could not stop for Death\", \"because_i_could_not_stop_for_death.json\")\n",
    "]\n",
    "\n",
    "for author, title, filename in poems:\n",
    "    fetch_and_save_poem(author, title, filename)\n",
    "\n",
    "# Analyze sentiment and print polarity scores\n",
    "for author, title, filename in poems:\n",
    "    polarity_score = analyze_sentiment_and_get_polarity(filename)\n",
    "    print(f\"Polarity Score for '{title}': {polarity_score}\")\n"
   ]
  },
  {
   "cell_type": "markdown",
   "metadata": {},
   "source": [
    "#### Question 4b Response\n",
    "\n",
    "| Poem Title                           | Polarity Score        | Does Reported Polarity Match My Understanding? | Why or Why Not                                                                 |\n",
    "|--------------------------------------|-----------------------|------------------------------------------------|--------------------------------------------------------------------------------|\n",
    "| The Road Not Taken                   | 0.0                   | No                                             | Sentiment may not have picked up on underlying negative context                |\n",
    "| Stopping by Woods on a Snowy Evening | 0.0                   | Yes                                            | There was an equal amount of positive and negative context                    |\n",
    "| Sonnet 18                            | 0.33181818181818185   | Yes                                            | There was more positive than negative context                                  |\n",
    "| Because I could not stop for Death   | 0.0                   | No                                             | Sentiment may not have picked up on underlying negative context                |\n"
   ]
  }
 ],
 "metadata": {
  "kernelspec": {
   "display_name": "Python 3",
   "language": "python",
   "name": "python3"
  },
  "language_info": {
   "codemirror_mode": {
    "name": "ipython",
    "version": 3
   },
   "file_extension": ".py",
   "mimetype": "text/x-python",
   "name": "python",
   "nbconvert_exporter": "python",
   "pygments_lexer": "ipython3",
   "version": "3.12.2"
  }
 },
 "nbformat": 4,
 "nbformat_minor": 4
}
